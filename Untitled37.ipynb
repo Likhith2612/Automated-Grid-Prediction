{
  "nbformat": 4,
  "nbformat_minor": 0,
  "metadata": {
    "colab": {
      "provenance": []
    },
    "kernelspec": {
      "name": "python3",
      "display_name": "Python 3"
    },
    "language_info": {
      "name": "python"
    }
  },
  "cells": [
    {
      "cell_type": "code",
      "execution_count": null,
      "metadata": {
        "colab": {
          "base_uri": "https://localhost:8080/"
        },
        "id": "3SIz223PPFi8",
        "outputId": "b129d94c-d3b2-4ac4-f8d5-ccfda6437bfe"
      },
      "outputs": [
        {
          "output_type": "stream",
          "name": "stderr",
          "text": [
            "<ipython-input-1-bc4dd9c2fcc4>:2: FutureWarning: The behavior of 'to_datetime' with 'unit' when parsing strings is deprecated. In a future version, strings will be parsed as datetime strings, matching the behavior without a 'unit'. To retain the old behavior, explicitly cast ints or floats to numeric type before calling to_datetime.\n",
            "  data = pd.read_json('/content/arc-agi_evaluation_challenges.json')\n",
            "<ipython-input-1-bc4dd9c2fcc4>:2: FutureWarning: The behavior of 'to_datetime' with 'unit' when parsing strings is deprecated. In a future version, strings will be parsed as datetime strings, matching the behavior without a 'unit'. To retain the old behavior, explicitly cast ints or floats to numeric type before calling to_datetime.\n",
            "  data = pd.read_json('/content/arc-agi_evaluation_challenges.json')\n",
            "<ipython-input-1-bc4dd9c2fcc4>:2: FutureWarning: The behavior of 'to_datetime' with 'unit' when parsing strings is deprecated. In a future version, strings will be parsed as datetime strings, matching the behavior without a 'unit'. To retain the old behavior, explicitly cast ints or floats to numeric type before calling to_datetime.\n",
            "  data = pd.read_json('/content/arc-agi_evaluation_challenges.json')\n"
          ]
        },
        {
          "output_type": "stream",
          "name": "stdout",
          "text": [
            "                                                00576224  \\\n",
            "test                       [{'input': [[3, 2], [7, 8]]}]   \n",
            "train  [{'input': [[8, 6], [6, 4]], 'output': [[8, 6,...   \n",
            "\n",
            "                                                009d5c81  \\\n",
            "test   [{'input': [[0, 0, 0, 0, 0, 0, 0, 0, 0, 0, 0, ...   \n",
            "train  [{'input': [[0, 0, 0, 0, 0, 0, 0, 0, 0, 0, 0, ...   \n",
            "\n",
            "                                                00dbd492  \\\n",
            "test   [{'input': [[0, 0, 0, 0, 0, 0, 0, 0, 0, 0, 0, ...   \n",
            "train  [{'input': [[2, 2, 2, 2, 2, 0, 0], [2, 0, 0, 0...   \n",
            "\n",
            "                                                03560426  \\\n",
            "test   [{'input': [[0, 0, 0, 0, 0, 0, 0, 0, 0, 0], [0...   \n",
            "train  [{'input': [[0, 0, 0, 0, 0, 0, 0, 0, 0, 0], [0...   \n",
            "\n",
            "                                                05a7bcf2  \\\n",
            "test   [{'input': [[0, 0, 0, 0, 0, 0, 0, 0, 0, 0, 2, ...   \n",
            "train  [{'input': [[0, 0, 0, 0, 0, 0, 0, 0, 0, 0, 0, ...   \n",
            "\n",
            "                                                0607ce86  \\\n",
            "test   [{'input': [[0, 0, 3, 3, 0, 0, 0, 0, 0, 0, 0, ...   \n",
            "train  [{'input': [[0, 0, 0, 0, 0, 0, 0, 0, 0, 0, 3, ...   \n",
            "\n",
            "                                                0692e18c  \\\n",
            "test      [{'input': [[0, 0, 3], [3, 3, 0], [0, 3, 0]]}]   \n",
            "train  [{'input': [[0, 7, 0], [7, 7, 7], [0, 7, 0]], ...   \n",
            "\n",
            "                                                070dd51e  \\\n",
            "test   [{'input': [[0, 0, 0, 0, 0, 0, 0, 0, 0, 0, 0, ...   \n",
            "train  [{'input': [[0, 0, 0, 0, 0, 0, 0, 0, 0, 0, 0, ...   \n",
            "\n",
            "                                                08573cc6  \\\n",
            "test   [{'input': [[2, 8, 0, 0, 0, 0, 0, 0, 0, 0, 0, ...   \n",
            "train  [{'input': [[5, 6, 0, 0, 0, 0, 0, 0, 0, 0, 0],...   \n",
            "\n",
            "                                                0934a4d8  ...  \\\n",
            "test   [{'input': [[4, 4, 1, 3, 5, 7, 7, 9, 6, 1, 6, ...  ...   \n",
            "train  [{'input': [[3, 1, 1, 9, 5, 6, 7, 1, 1, 4, 5, ...  ...   \n",
            "\n",
            "                                                f9a67cb5  \\\n",
            "test   [{'input': [[0, 0, 0, 0, 0, 0, 2, 0, 0, 0, 0, ...   \n",
            "train  [{'input': [[0, 0, 0, 0, 0, 0, 0, 2, 0, 0, 0, ...   \n",
            "\n",
            "                                                f9d67f8b  \\\n",
            "test   [{'input': [[4, 8, 8, 8, 5, 7, 4, 1, 7, 5, 1, ...   \n",
            "train  [{'input': [[6, 1, 2, 2, 4, 6, 2, 6, 8, 2, 8, ...   \n",
            "\n",
            "                                                fafd9572  \\\n",
            "test   [{'input': [[0, 2, 0, 0, 0, 0, 0, 0, 0, 0, 0, ...   \n",
            "train  [{'input': [[1, 1, 0, 0, 1, 1, 0, 0, 0, 0, 0, ...   \n",
            "\n",
            "                                                fb791726  \\\n",
            "test   [{'input': [[9, 0, 0, 0], [0, 0, 0, 0], [9, 0,...   \n",
            "train  [{'input': [[0, 4, 0, 0, 0, 0], [0, 0, 0, 0, 0...   \n",
            "\n",
            "                                                fc754716  \\\n",
            "test   [{'input': [[0, 0, 0, 0, 0, 0, 0], [0, 0, 0, 0...   \n",
            "train  [{'input': [[0, 0, 0], [0, 2, 0], [0, 0, 0]], ...   \n",
            "\n",
            "                                                fd096ab6  \\\n",
            "test   [{'input': [[1, 1, 1, 1, 1, 1, 1, 1, 1, 1, 1, ...   \n",
            "train  [{'input': [[1, 1, 1, 1, 1, 1, 1, 1, 1, 1, 1, ...   \n",
            "\n",
            "                                                fd4b2b02  \\\n",
            "test   [{'input': [[0, 0, 0, 0, 0, 0, 0, 0, 0, 0, 0, ...   \n",
            "train  [{'input': [[0, 0, 0, 0, 0, 0, 0, 0, 0, 0, 0, ...   \n",
            "\n",
            "                                                fe9372f3  \\\n",
            "test   [{'input': [[0, 0, 0, 0, 0, 0, 0, 0, 0, 0, 0, ...   \n",
            "train  [{'input': [[0, 0, 0, 0, 0, 0, 0, 0, 0, 0], [0...   \n",
            "\n",
            "                                                fea12743  \\\n",
            "test   [{'input': [[0, 0, 0, 0, 0, 0, 0, 0, 0, 0, 0],...   \n",
            "train  [{'input': [[0, 0, 0, 0, 0, 0, 0, 0, 0, 0, 0],...   \n",
            "\n",
            "                                                ff72ca3e  \n",
            "test   [{'input': [[0, 0, 0, 0, 0, 0, 0, 0, 0, 0, 0, ...  \n",
            "train  [{'input': [[0, 0, 0, 0, 0, 0, 5, 0, 0, 0], [0...  \n",
            "\n",
            "[2 rows x 400 columns]\n"
          ]
        }
      ],
      "source": [
        "import pandas as pd\n",
        "data = pd.read_json('/content/arc-agi_evaluation_challenges.json')\n",
        "print(data.head())"
      ]
    },
    {
      "cell_type": "code",
      "source": [
        "# Step 3: Inspect the first few rows to identify any unusual structures\n",
        "print(\"Sample data:\")\n",
        "print(data.head())\n",
        "\n",
        "# Step 4: Check for missing values\n",
        "print(\"\\nMissing values in each column:\")\n",
        "print(data.isnull().sum())\n",
        "\n",
        "# Step 5: Inspect data types\n",
        "print(\"\\nData types of each column:\")\n",
        "print(data.dtypes)\n",
        "\n",
        "# Step 6: Check for non-hashable columns\n",
        "# Check if any cell contains a list or dictionary\n",
        "non_hashable_columns = [col for col in data.columns if data[col].apply(lambda x: isinstance(x, (list, dict))).any()]\n",
        "print(\"\\nNon-hashable columns:\", non_hashable_columns)\n",
        "\n",
        "# Step 7: Flatten or convert non-hashable columns (if any)\n",
        "for col in non_hashable_columns:\n",
        "    # Convert list to string representation or handle dicts if necessary\n",
        "    data[col] = data[col].apply(lambda x: str(x) if isinstance(x, (list, dict)) else x)\n",
        "\n",
        "# Step 8: Check for duplicates\n",
        "duplicates = data.duplicated().sum()\n",
        "print(\"\\nNumber of duplicate rows:\", duplicates)\n",
        "\n",
        "# Step 9: Drop duplicates if found\n",
        "if duplicates > 0:\n",
        "    data = data.drop_duplicates()\n",
        "    print(\"Duplicates dropped. New shape:\", data.shape)\n",
        "\n",
        "# Step 10: Handle missing values\n",
        "# Impute missing values (mean for numerical, mode for categorical)\n",
        "for column in data.select_dtypes(include=['float64', 'int64']).columns:\n",
        "    data[column].fillna(data[column].mean(), inplace=True)\n",
        "\n",
        "for column in data.select_dtypes(include=['object']).columns:\n",
        "    data[column].fillna(data[column].mode()[0], inplace=True)\n",
        "\n",
        "# Step 11: Check if there are still missing values\n",
        "print(\"\\nMissing values after cleaning:\")\n",
        "print(data.isnull().sum())\n",
        "\n",
        "# Step 12: Final data shape\n",
        "print(\"\\nFinal shape of the dataset:\", data.shape)\n",
        "\n",
        "cleaned_data_file = 'cleaned_data.csv'  # Change the file name as needed\n",
        "data.to_csv(cleaned_data_file, index=False)\n",
        "print(f\"Cleaned data saved to '{cleaned_data_file}'.\")"
      ],
      "metadata": {
        "colab": {
          "base_uri": "https://localhost:8080/"
        },
        "id": "tP8s9CMISy4P",
        "outputId": "283e9857-ffa7-424c-bb6f-fe0cb8229dc9"
      },
      "execution_count": null,
      "outputs": [
        {
          "output_type": "stream",
          "name": "stdout",
          "text": [
            "Sample data:\n",
            "                                                00576224  \\\n",
            "test                       [{'input': [[3, 2], [7, 8]]}]   \n",
            "train  [{'input': [[8, 6], [6, 4]], 'output': [[8, 6,...   \n",
            "\n",
            "                                                009d5c81  \\\n",
            "test   [{'input': [[0, 0, 0, 0, 0, 0, 0, 0, 0, 0, 0, ...   \n",
            "train  [{'input': [[0, 0, 0, 0, 0, 0, 0, 0, 0, 0, 0, ...   \n",
            "\n",
            "                                                00dbd492  \\\n",
            "test   [{'input': [[0, 0, 0, 0, 0, 0, 0, 0, 0, 0, 0, ...   \n",
            "train  [{'input': [[2, 2, 2, 2, 2, 0, 0], [2, 0, 0, 0...   \n",
            "\n",
            "                                                03560426  \\\n",
            "test   [{'input': [[0, 0, 0, 0, 0, 0, 0, 0, 0, 0], [0...   \n",
            "train  [{'input': [[0, 0, 0, 0, 0, 0, 0, 0, 0, 0], [0...   \n",
            "\n",
            "                                                05a7bcf2  \\\n",
            "test   [{'input': [[0, 0, 0, 0, 0, 0, 0, 0, 0, 0, 2, ...   \n",
            "train  [{'input': [[0, 0, 0, 0, 0, 0, 0, 0, 0, 0, 0, ...   \n",
            "\n",
            "                                                0607ce86  \\\n",
            "test   [{'input': [[0, 0, 3, 3, 0, 0, 0, 0, 0, 0, 0, ...   \n",
            "train  [{'input': [[0, 0, 0, 0, 0, 0, 0, 0, 0, 0, 3, ...   \n",
            "\n",
            "                                                0692e18c  \\\n",
            "test      [{'input': [[0, 0, 3], [3, 3, 0], [0, 3, 0]]}]   \n",
            "train  [{'input': [[0, 7, 0], [7, 7, 7], [0, 7, 0]], ...   \n",
            "\n",
            "                                                070dd51e  \\\n",
            "test   [{'input': [[0, 0, 0, 0, 0, 0, 0, 0, 0, 0, 0, ...   \n",
            "train  [{'input': [[0, 0, 0, 0, 0, 0, 0, 0, 0, 0, 0, ...   \n",
            "\n",
            "                                                08573cc6  \\\n",
            "test   [{'input': [[2, 8, 0, 0, 0, 0, 0, 0, 0, 0, 0, ...   \n",
            "train  [{'input': [[5, 6, 0, 0, 0, 0, 0, 0, 0, 0, 0],...   \n",
            "\n",
            "                                                0934a4d8  ...  \\\n",
            "test   [{'input': [[4, 4, 1, 3, 5, 7, 7, 9, 6, 1, 6, ...  ...   \n",
            "train  [{'input': [[3, 1, 1, 9, 5, 6, 7, 1, 1, 4, 5, ...  ...   \n",
            "\n",
            "                                                f9a67cb5  \\\n",
            "test   [{'input': [[0, 0, 0, 0, 0, 0, 2, 0, 0, 0, 0, ...   \n",
            "train  [{'input': [[0, 0, 0, 0, 0, 0, 0, 2, 0, 0, 0, ...   \n",
            "\n",
            "                                                f9d67f8b  \\\n",
            "test   [{'input': [[4, 8, 8, 8, 5, 7, 4, 1, 7, 5, 1, ...   \n",
            "train  [{'input': [[6, 1, 2, 2, 4, 6, 2, 6, 8, 2, 8, ...   \n",
            "\n",
            "                                                fafd9572  \\\n",
            "test   [{'input': [[0, 2, 0, 0, 0, 0, 0, 0, 0, 0, 0, ...   \n",
            "train  [{'input': [[1, 1, 0, 0, 1, 1, 0, 0, 0, 0, 0, ...   \n",
            "\n",
            "                                                fb791726  \\\n",
            "test   [{'input': [[9, 0, 0, 0], [0, 0, 0, 0], [9, 0,...   \n",
            "train  [{'input': [[0, 4, 0, 0, 0, 0], [0, 0, 0, 0, 0...   \n",
            "\n",
            "                                                fc754716  \\\n",
            "test   [{'input': [[0, 0, 0, 0, 0, 0, 0], [0, 0, 0, 0...   \n",
            "train  [{'input': [[0, 0, 0], [0, 2, 0], [0, 0, 0]], ...   \n",
            "\n",
            "                                                fd096ab6  \\\n",
            "test   [{'input': [[1, 1, 1, 1, 1, 1, 1, 1, 1, 1, 1, ...   \n",
            "train  [{'input': [[1, 1, 1, 1, 1, 1, 1, 1, 1, 1, 1, ...   \n",
            "\n",
            "                                                fd4b2b02  \\\n",
            "test   [{'input': [[0, 0, 0, 0, 0, 0, 0, 0, 0, 0, 0, ...   \n",
            "train  [{'input': [[0, 0, 0, 0, 0, 0, 0, 0, 0, 0, 0, ...   \n",
            "\n",
            "                                                fe9372f3  \\\n",
            "test   [{'input': [[0, 0, 0, 0, 0, 0, 0, 0, 0, 0, 0, ...   \n",
            "train  [{'input': [[0, 0, 0, 0, 0, 0, 0, 0, 0, 0], [0...   \n",
            "\n",
            "                                                fea12743  \\\n",
            "test   [{'input': [[0, 0, 0, 0, 0, 0, 0, 0, 0, 0, 0],...   \n",
            "train  [{'input': [[0, 0, 0, 0, 0, 0, 0, 0, 0, 0, 0],...   \n",
            "\n",
            "                                                ff72ca3e  \n",
            "test   [{'input': [[0, 0, 0, 0, 0, 0, 0, 0, 0, 0, 0, ...  \n",
            "train  [{'input': [[0, 0, 0, 0, 0, 0, 5, 0, 0, 0], [0...  \n",
            "\n",
            "[2 rows x 400 columns]\n",
            "\n",
            "Missing values in each column:\n",
            "00576224    0\n",
            "009d5c81    0\n",
            "00dbd492    0\n",
            "03560426    0\n",
            "05a7bcf2    0\n",
            "           ..\n",
            "fd096ab6    0\n",
            "fd4b2b02    0\n",
            "fe9372f3    0\n",
            "fea12743    0\n",
            "ff72ca3e    0\n",
            "Length: 400, dtype: int64\n",
            "\n",
            "Data types of each column:\n",
            "00576224    object\n",
            "009d5c81    object\n",
            "00dbd492    object\n",
            "03560426    object\n",
            "05a7bcf2    object\n",
            "             ...  \n",
            "fd096ab6    object\n",
            "fd4b2b02    object\n",
            "fe9372f3    object\n",
            "fea12743    object\n",
            "ff72ca3e    object\n",
            "Length: 400, dtype: object\n",
            "\n",
            "Non-hashable columns: ['00576224', '009d5c81', '00dbd492', '03560426', '05a7bcf2', '0607ce86', '0692e18c', '070dd51e', '08573cc6', '0934a4d8', '09c534e7', '0a1d4ef5', '0a2355a6', '0b17323b', '0bb8deee', '0becf7df', '0c786b71', '0c9aba6e', '0d87d2a6', '0e671a1a', '0f63c0b9', '103eff5b', '11e1fe23', '12422b43', '12997ef3', '12eac192', '136b0064', '13713586', '137f0df0', '140c817e', '14754a24', '15113be4', '15663ba9', '15696249', '16b78196', '17b80ad2', '17cae0c1', '18419cfa', '184a9768', '195ba7dc', '1990f7a8', '19bb5feb', '1a2e2828', '1a6449f1', '1acc24af', '1c02dbbe', '1c0d0a4b', '1c56ad9f', '1d0a4b61', '1d398264', '1da012fc', '1e81d6f9', '1e97544e', '2037f2c7', '2072aba6', '20818e16', '20981f0e', '212895b5', '21f83797', '22a4bbc2', '25094a63', '2546ccf6', '256b0a75', '2685904e', '2697da3f', '2753e76c', '27a77e38', '27f8ce4f', '281123b4', '292dd178', '29700607', '2a5f8217', '2b01abd0', '2c0b0aff', '2c737e39', '2f0c5170', '310f3251', '3194b014', '319f2597', '31adaf00', '31d5ba1a', '32e9702f', '332efdb3', '3391f8c0', '33b52de3', '3490cc26', '34b99a2b', '351d6448', '358ba94e', '37d3e8b2', '3979b1a8', '3a301edc', '3b4c2228', '3d31c5b3', '3ed85e70', '3ee1011a', '3f23242b', '40f6cd08', '414297c0', '423a55dc', '42918530', '42a15761', '4364c1c4', '456873bc', '45737921', '45bbe264', '477d2879', '47996f11', '48131b3c', '4852f2fa', '48f8583b', '4aab4007', '4acc7107', '4b6b68e5', '4c177718', '4cd1b7b2', '4e45f183', '4e469f39', '4f537728', '4ff4c9da', '505fff84', '506d28a5', '50a16a69', '50aad11f', '50f325b5', '516b51b7', '5207a7b5', '5289ad53', '52fd389e', '54db823b', '55059096', '551d5bf1', '55783887', '575b1a71', '5783df64', '5833af48', '58743b76', '58e15b12', '59341089', '5a5a2103', '5af49b42', '5b526a93', '5b692c0f', '5b6cbef5', '5d2a5c43', '5ffb2104', '604001fa', '60a26a3e', '60c09cac', '626c0bcc', '62ab2642', '62b74c02', '639f5a19', '642248e4', '642d658d', '64a7c07e', '66e6c45b', '66f2d22f', '67636eac', '67b4a34d', '67c52801', '68b67ca3', '692cd3b6', '695367ec', '696d4842', '69889d6e', '6a11f6da', '6ad5bdfd', '6df30ad6', '6ea4a07e', '6f473927', '7039b2d7', '705a3229', '712bf12e', '72207abc', '72a961c9', '73182012', '73c3b0d8', '73ccf9c2', '759f3fd3', '762cd429', '770cc55f', '782b5218', '79369cc6', '7953d61e', '79fb03f4', '7bb29440', '7c8af763', '7c9b52a0', '7d18a6fb', '7d1f7ee8', '7d419a02', '7e02026e', '7ee1c6ea', '817e6c09', '81c0276b', '833dafe3', '845d6e51', '84db8fc4', '84f2aca1', '8597cfd7', '85b81ff1', '85fa5666', '8719f442', '88207623', '891232d6', '896d5239', '8a371977', '8b28cd80', '8ba14f53', '8cb8642d', '8dae5dfc', '8e2edd66', '8ee62060', '8fbca751', '90347967', '903d1b4a', '9110e3c5', '917bccba', '929ab4e9', '92e50de0', '9356391f', '93b4f4b3', '93c31fbe', '94133066', '94414823', '94be5b80', '95a58926', '963f59bc', '96a8c0cd', '97239e3d', '9772c176', '981571dc', '992798f6', '99306f82', '9a4bb226', '9b2a60aa', '9b365c51', '9b4c17c4', '9bebae7a', '9c1e755f', '9c56f360', '9caba7c3', '9ddd00f0', '9def23fe', '9f27f097', 'a04b2602', 'a096bf4d', 'a3f84088', 'a406ac07', 'a57f2f04', 'a59b95c0', 'a680ac02', 'a8610ef7', 'a934301b', 'aa18de87', 'aa300dc3', 'aa4ec2a5', 'aab50785', 'ac0c5833', 'ac2e8ecf', 'ac3e2b04', 'ac605cbb', 'ad7e01d0', 'ae58858e', 'aee291af', 'af22c60d', 'af24b4cc', 'b0722778', 'b0f4d537', 'b15fca0b', 'b1fc8b8e', 'b20f7c8b', 'b457fec5', 'b4a43f3b', 'b7999b51', 'b7cb93ac', 'b7f8a4d8', 'b7fb29bc', 'b942fd60', 'b9630600', 'ba9d41b8', 'baf41dbf', 'bb52a14b', 'bbb1b8b6', 'bc4146bd', 'bcb3040b', 'bd14c3bf', 'be03b35f', 'bf32578f', 'bf699163', 'bf89d739', 'c074846d', 'c1990cce', 'c3202e5a', 'c35c1b4c', 'c48954c1', 'c62e2108', 'c64f1187', 'c658a4bd', 'c663677b', 'c6e1b8da', 'c7d4e6ad', 'c87289bb', 'c8b7cc0f', 'c92b942c', 'c97c0139', 'ca8de6ea', 'ca8f78db', 'cad67732', 'cb227835', 'ccd554ac', 'cd3c21df', 'ce039d91', 'ce8d95cc', 'cf133acc', 'cfb2ce5a', 'd017b73f', 'd19f7514', 'd282b262', 'd2acf2cb', 'd304284e', 'd37a1ef5', 'd47aa2ff', 'd492a647', 'd4b1c2b1', 'd4c90558', 'd56f2372', 'd5c634a2', 'd931c21c', 'd94c3b52', 'da2b0fe3', 'da515329', 'dc2aa30b', 'dc2e9a9d', 'dd2401ed', 'de493100', 'df8cc377', 'e0fb7511', 'e133d23d', 'e1baa8a4', 'e1d2900e', 'e2092e0c', 'e21a174a', 'e345f17b', 'e4075551', 'e41c6fd3', 'e57337a4', 'e5790162', 'e5c44e8f', 'e619ca6e', 'e633a9e5', 'e66aafb8', 'e681b708', 'e69241bd', 'e6de6e8f', 'e74e1818', 'e760a62e', 'e7639916', 'e78887d1', 'e7a25a18', 'e7b06bea', 'e7dd8335', 'e872b94a', 'e88171ec', 'e95e3d8e', 'e99362f0', 'e9ac8c9e', 'e9b4f6fc', 'e9bb6954', 'e9c9d9a1', 'ea959feb', 'ea9794b1', 'ecaa0ec1', 'ed74f2f2', 'ed98d772', 'ef26cbf6', 'f0afb749', 'f0df5ff0', 'f21745ec', 'f3b10344', 'f3cdc58f', 'f3e62deb', 'f4081712', 'f45f5ca7', 'f5aa3634', 'f5c89df1', 'f823c43c', 'f83cb3f6', 'f8be4b64', 'f9a67cb5', 'f9d67f8b', 'fafd9572', 'fb791726', 'fc754716', 'fd096ab6', 'fd4b2b02', 'fe9372f3', 'fea12743', 'ff72ca3e']\n",
            "\n",
            "Number of duplicate rows: 0\n",
            "\n",
            "Missing values after cleaning:\n"
          ]
        },
        {
          "output_type": "stream",
          "name": "stderr",
          "text": [
            "<ipython-input-2-0ed8bd9a5441>:38: FutureWarning: A value is trying to be set on a copy of a DataFrame or Series through chained assignment using an inplace method.\n",
            "The behavior will change in pandas 3.0. This inplace method will never work because the intermediate object on which we are setting values always behaves as a copy.\n",
            "\n",
            "For example, when doing 'df[col].method(value, inplace=True)', try using 'df.method({col: value}, inplace=True)' or df[col] = df[col].method(value) instead, to perform the operation inplace on the original object.\n",
            "\n",
            "\n",
            "  data[column].fillna(data[column].mode()[0], inplace=True)\n"
          ]
        },
        {
          "output_type": "stream",
          "name": "stdout",
          "text": [
            "00576224    0\n",
            "009d5c81    0\n",
            "00dbd492    0\n",
            "03560426    0\n",
            "05a7bcf2    0\n",
            "           ..\n",
            "fd096ab6    0\n",
            "fd4b2b02    0\n",
            "fe9372f3    0\n",
            "fea12743    0\n",
            "ff72ca3e    0\n",
            "Length: 400, dtype: int64\n",
            "\n",
            "Final shape of the dataset: (2, 400)\n",
            "Cleaned data saved to 'cleaned_data.csv'.\n"
          ]
        }
      ]
    },
    {
      "cell_type": "code",
      "source": [
        "# Example: Summary statistics\n",
        "summary_stats = data.describe(include='all')  # Include='all' to get stats for all columns\n",
        "print(summary_stats)"
      ],
      "metadata": {
        "colab": {
          "base_uri": "https://localhost:8080/"
        },
        "id": "4ZuemlAiTaJJ",
        "outputId": "3b95e5f7-28f2-4298-d180-4e46a4b8bcc3"
      },
      "execution_count": null,
      "outputs": [
        {
          "output_type": "stream",
          "name": "stdout",
          "text": [
            "                             00576224  \\\n",
            "count                               2   \n",
            "unique                              2   \n",
            "top     [{'input': [[3, 2], [7, 8]]}]   \n",
            "freq                                1   \n",
            "\n",
            "                                                 009d5c81  \\\n",
            "count                                                   2   \n",
            "unique                                                  2   \n",
            "top     [{'input': [[0, 0, 0, 0, 0, 0, 0, 0, 0, 0, 0, ...   \n",
            "freq                                                    1   \n",
            "\n",
            "                                                 00dbd492  \\\n",
            "count                                                   2   \n",
            "unique                                                  2   \n",
            "top     [{'input': [[0, 0, 0, 0, 0, 0, 0, 0, 0, 0, 0, ...   \n",
            "freq                                                    1   \n",
            "\n",
            "                                                 03560426  \\\n",
            "count                                                   2   \n",
            "unique                                                  2   \n",
            "top     [{'input': [[0, 0, 0, 0, 0, 0, 0, 0, 0, 0], [0...   \n",
            "freq                                                    1   \n",
            "\n",
            "                                                 05a7bcf2  \\\n",
            "count                                                   2   \n",
            "unique                                                  2   \n",
            "top     [{'input': [[0, 0, 0, 0, 0, 0, 0, 0, 0, 0, 2, ...   \n",
            "freq                                                    1   \n",
            "\n",
            "                                                 0607ce86  \\\n",
            "count                                                   2   \n",
            "unique                                                  2   \n",
            "top     [{'input': [[0, 0, 3, 3, 0, 0, 0, 0, 0, 0, 0, ...   \n",
            "freq                                                    1   \n",
            "\n",
            "                                              0692e18c  \\\n",
            "count                                                2   \n",
            "unique                                               2   \n",
            "top     [{'input': [[0, 0, 3], [3, 3, 0], [0, 3, 0]]}]   \n",
            "freq                                                 1   \n",
            "\n",
            "                                                 070dd51e  \\\n",
            "count                                                   2   \n",
            "unique                                                  2   \n",
            "top     [{'input': [[0, 0, 0, 0, 0, 0, 0, 0, 0, 0, 0, ...   \n",
            "freq                                                    1   \n",
            "\n",
            "                                                 08573cc6  \\\n",
            "count                                                   2   \n",
            "unique                                                  2   \n",
            "top     [{'input': [[2, 8, 0, 0, 0, 0, 0, 0, 0, 0, 0, ...   \n",
            "freq                                                    1   \n",
            "\n",
            "                                                 0934a4d8  ...  \\\n",
            "count                                                   2  ...   \n",
            "unique                                                  2  ...   \n",
            "top     [{'input': [[4, 4, 1, 3, 5, 7, 7, 9, 6, 1, 6, ...  ...   \n",
            "freq                                                    1  ...   \n",
            "\n",
            "                                                 f9a67cb5  \\\n",
            "count                                                   2   \n",
            "unique                                                  2   \n",
            "top     [{'input': [[0, 0, 0, 0, 0, 0, 2, 0, 0, 0, 0, ...   \n",
            "freq                                                    1   \n",
            "\n",
            "                                                 f9d67f8b  \\\n",
            "count                                                   2   \n",
            "unique                                                  2   \n",
            "top     [{'input': [[4, 8, 8, 8, 5, 7, 4, 1, 7, 5, 1, ...   \n",
            "freq                                                    1   \n",
            "\n",
            "                                                 fafd9572  \\\n",
            "count                                                   2   \n",
            "unique                                                  2   \n",
            "top     [{'input': [[0, 2, 0, 0, 0, 0, 0, 0, 0, 0, 0, ...   \n",
            "freq                                                    1   \n",
            "\n",
            "                                                 fb791726  \\\n",
            "count                                                   2   \n",
            "unique                                                  2   \n",
            "top     [{'input': [[9, 0, 0, 0], [0, 0, 0, 0], [9, 0,...   \n",
            "freq                                                    1   \n",
            "\n",
            "                                                 fc754716  \\\n",
            "count                                                   2   \n",
            "unique                                                  2   \n",
            "top     [{'input': [[0, 0, 0, 0, 0, 0, 0], [0, 0, 0, 0...   \n",
            "freq                                                    1   \n",
            "\n",
            "                                                 fd096ab6  \\\n",
            "count                                                   2   \n",
            "unique                                                  2   \n",
            "top     [{'input': [[1, 1, 1, 1, 1, 1, 1, 1, 1, 1, 1, ...   \n",
            "freq                                                    1   \n",
            "\n",
            "                                                 fd4b2b02  \\\n",
            "count                                                   2   \n",
            "unique                                                  2   \n",
            "top     [{'input': [[0, 0, 0, 0, 0, 0, 0, 0, 0, 0, 0, ...   \n",
            "freq                                                    1   \n",
            "\n",
            "                                                 fe9372f3  \\\n",
            "count                                                   2   \n",
            "unique                                                  2   \n",
            "top     [{'input': [[0, 0, 0, 0, 0, 0, 0, 0, 0, 0, 0, ...   \n",
            "freq                                                    1   \n",
            "\n",
            "                                                 fea12743  \\\n",
            "count                                                   2   \n",
            "unique                                                  2   \n",
            "top     [{'input': [[0, 0, 0, 0, 0, 0, 0, 0, 0, 0, 0],...   \n",
            "freq                                                    1   \n",
            "\n",
            "                                                 ff72ca3e  \n",
            "count                                                   2  \n",
            "unique                                                  2  \n",
            "top     [{'input': [[0, 0, 0, 0, 0, 0, 0, 0, 0, 0, 0, ...  \n",
            "freq                                                    1  \n",
            "\n",
            "[4 rows x 400 columns]\n"
          ]
        }
      ]
    },
    {
      "cell_type": "code",
      "source": [
        "# Check the first few rows of the cleaned data\n",
        "print(data.head())\n",
        "\n",
        "# Check the columns in the cleaned data\n",
        "print(data.columns)\n"
      ],
      "metadata": {
        "colab": {
          "base_uri": "https://localhost:8080/"
        },
        "id": "eAzEajIfXRKk",
        "outputId": "22bada47-0854-4575-cf92-b0671b333713"
      },
      "execution_count": null,
      "outputs": [
        {
          "output_type": "stream",
          "name": "stdout",
          "text": [
            "                                                00576224  \\\n",
            "test                       [{'input': [[3, 2], [7, 8]]}]   \n",
            "train  [{'input': [[8, 6], [6, 4]], 'output': [[8, 6,...   \n",
            "\n",
            "                                                009d5c81  \\\n",
            "test   [{'input': [[0, 0, 0, 0, 0, 0, 0, 0, 0, 0, 0, ...   \n",
            "train  [{'input': [[0, 0, 0, 0, 0, 0, 0, 0, 0, 0, 0, ...   \n",
            "\n",
            "                                                00dbd492  \\\n",
            "test   [{'input': [[0, 0, 0, 0, 0, 0, 0, 0, 0, 0, 0, ...   \n",
            "train  [{'input': [[2, 2, 2, 2, 2, 0, 0], [2, 0, 0, 0...   \n",
            "\n",
            "                                                03560426  \\\n",
            "test   [{'input': [[0, 0, 0, 0, 0, 0, 0, 0, 0, 0], [0...   \n",
            "train  [{'input': [[0, 0, 0, 0, 0, 0, 0, 0, 0, 0], [0...   \n",
            "\n",
            "                                                05a7bcf2  \\\n",
            "test   [{'input': [[0, 0, 0, 0, 0, 0, 0, 0, 0, 0, 2, ...   \n",
            "train  [{'input': [[0, 0, 0, 0, 0, 0, 0, 0, 0, 0, 0, ...   \n",
            "\n",
            "                                                0607ce86  \\\n",
            "test   [{'input': [[0, 0, 3, 3, 0, 0, 0, 0, 0, 0, 0, ...   \n",
            "train  [{'input': [[0, 0, 0, 0, 0, 0, 0, 0, 0, 0, 3, ...   \n",
            "\n",
            "                                                0692e18c  \\\n",
            "test      [{'input': [[0, 0, 3], [3, 3, 0], [0, 3, 0]]}]   \n",
            "train  [{'input': [[0, 7, 0], [7, 7, 7], [0, 7, 0]], ...   \n",
            "\n",
            "                                                070dd51e  \\\n",
            "test   [{'input': [[0, 0, 0, 0, 0, 0, 0, 0, 0, 0, 0, ...   \n",
            "train  [{'input': [[0, 0, 0, 0, 0, 0, 0, 0, 0, 0, 0, ...   \n",
            "\n",
            "                                                08573cc6  \\\n",
            "test   [{'input': [[2, 8, 0, 0, 0, 0, 0, 0, 0, 0, 0, ...   \n",
            "train  [{'input': [[5, 6, 0, 0, 0, 0, 0, 0, 0, 0, 0],...   \n",
            "\n",
            "                                                0934a4d8  ...  \\\n",
            "test   [{'input': [[4, 4, 1, 3, 5, 7, 7, 9, 6, 1, 6, ...  ...   \n",
            "train  [{'input': [[3, 1, 1, 9, 5, 6, 7, 1, 1, 4, 5, ...  ...   \n",
            "\n",
            "                                                f9a67cb5  \\\n",
            "test   [{'input': [[0, 0, 0, 0, 0, 0, 2, 0, 0, 0, 0, ...   \n",
            "train  [{'input': [[0, 0, 0, 0, 0, 0, 0, 2, 0, 0, 0, ...   \n",
            "\n",
            "                                                f9d67f8b  \\\n",
            "test   [{'input': [[4, 8, 8, 8, 5, 7, 4, 1, 7, 5, 1, ...   \n",
            "train  [{'input': [[6, 1, 2, 2, 4, 6, 2, 6, 8, 2, 8, ...   \n",
            "\n",
            "                                                fafd9572  \\\n",
            "test   [{'input': [[0, 2, 0, 0, 0, 0, 0, 0, 0, 0, 0, ...   \n",
            "train  [{'input': [[1, 1, 0, 0, 1, 1, 0, 0, 0, 0, 0, ...   \n",
            "\n",
            "                                                fb791726  \\\n",
            "test   [{'input': [[9, 0, 0, 0], [0, 0, 0, 0], [9, 0,...   \n",
            "train  [{'input': [[0, 4, 0, 0, 0, 0], [0, 0, 0, 0, 0...   \n",
            "\n",
            "                                                fc754716  \\\n",
            "test   [{'input': [[0, 0, 0, 0, 0, 0, 0], [0, 0, 0, 0...   \n",
            "train  [{'input': [[0, 0, 0], [0, 2, 0], [0, 0, 0]], ...   \n",
            "\n",
            "                                                fd096ab6  \\\n",
            "test   [{'input': [[1, 1, 1, 1, 1, 1, 1, 1, 1, 1, 1, ...   \n",
            "train  [{'input': [[1, 1, 1, 1, 1, 1, 1, 1, 1, 1, 1, ...   \n",
            "\n",
            "                                                fd4b2b02  \\\n",
            "test   [{'input': [[0, 0, 0, 0, 0, 0, 0, 0, 0, 0, 0, ...   \n",
            "train  [{'input': [[0, 0, 0, 0, 0, 0, 0, 0, 0, 0, 0, ...   \n",
            "\n",
            "                                                fe9372f3  \\\n",
            "test   [{'input': [[0, 0, 0, 0, 0, 0, 0, 0, 0, 0, 0, ...   \n",
            "train  [{'input': [[0, 0, 0, 0, 0, 0, 0, 0, 0, 0], [0...   \n",
            "\n",
            "                                                fea12743  \\\n",
            "test   [{'input': [[0, 0, 0, 0, 0, 0, 0, 0, 0, 0, 0],...   \n",
            "train  [{'input': [[0, 0, 0, 0, 0, 0, 0, 0, 0, 0, 0],...   \n",
            "\n",
            "                                                ff72ca3e  \n",
            "test   [{'input': [[0, 0, 0, 0, 0, 0, 0, 0, 0, 0, 0, ...  \n",
            "train  [{'input': [[0, 0, 0, 0, 0, 0, 5, 0, 0, 0], [0...  \n",
            "\n",
            "[2 rows x 400 columns]\n",
            "Index(['00576224', '009d5c81', '00dbd492', '03560426', '05a7bcf2', '0607ce86',\n",
            "       '0692e18c', '070dd51e', '08573cc6', '0934a4d8',\n",
            "       ...\n",
            "       'f9a67cb5', 'f9d67f8b', 'fafd9572', 'fb791726', 'fc754716', 'fd096ab6',\n",
            "       'fd4b2b02', 'fe9372f3', 'fea12743', 'ff72ca3e'],\n",
            "      dtype='object', length=400)\n"
          ]
        }
      ]
    },
    {
      "cell_type": "code",
      "source": [
        "# Check the length of outputs before reshaping\n",
        "print(\"Number of elements in outputs:\", outputs.size)\n",
        "\n",
        "# Ensure the total size of outputs is divisible by 36 (for a 6x6 shape)\n",
        "if outputs.size % 36 == 0:\n",
        "    outputs = outputs.reshape(-1, 6, 6)\n",
        "else:\n",
        "    print(f\"Cannot reshape array of size {outputs.size} into (6,6).\")\n",
        "    # You might need to trim or adjust your output data here"
      ],
      "metadata": {
        "colab": {
          "base_uri": "https://localhost:8080/"
        },
        "id": "iEtz93jWnGsV",
        "outputId": "417fd9fc-dec8-445b-a12e-a22fc0989748"
      },
      "execution_count": null,
      "outputs": [
        {
          "output_type": "stream",
          "name": "stdout",
          "text": [
            "Number of elements in outputs: 400\n",
            "Cannot reshape array of size 400 into (6,6).\n"
          ]
        }
      ]
    },
    {
      "cell_type": "code",
      "source": [
        "outputs = outputs.reshape(-1, 20, 20)"
      ],
      "metadata": {
        "id": "E0kiBcNSnTJx"
      },
      "execution_count": null,
      "outputs": []
    },
    {
      "cell_type": "code",
      "source": [
        "import numpy as np\n",
        "\n",
        "# Example outputs array\n",
        "outputs = np.random.rand(400)  # Replace this with your actual array\n",
        "\n",
        "# Desired size for reshaping\n",
        "desired_size = 36\n",
        "\n",
        "# Check if trimming or padding is needed\n",
        "if outputs.size > desired_size:\n",
        "    # Trim the array to the first 36 elements\n",
        "    outputs_resized = outputs[:desired_size]\n",
        "elif outputs.size < desired_size:\n",
        "    # Pad the array with zeros to reach 36 elements\n",
        "    pad_size = desired_size - outputs.size\n",
        "    outputs_resized = np.pad(outputs, (0, pad_size), mode='constant')\n",
        "else:\n",
        "    # If the size is already 36, just assign it directly\n",
        "    outputs_resized = outputs\n",
        "\n",
        "# Reshape to (6, 6)\n",
        "outputs_reshaped = outputs_resized.reshape(6, 6)\n",
        "\n",
        "print(\"Reshaped Output:\", outputs_reshaped.shape)"
      ],
      "metadata": {
        "colab": {
          "base_uri": "https://localhost:8080/"
        },
        "id": "hY5hO9dRnoGX",
        "outputId": "6728eb16-af55-4d6b-d02a-8f3684af83d8"
      },
      "execution_count": null,
      "outputs": [
        {
          "output_type": "stream",
          "name": "stdout",
          "text": [
            "Reshaped Output: (6, 6)\n"
          ]
        }
      ]
    },
    {
      "cell_type": "code",
      "source": [
        "import matplotlib.pyplot as plt\n",
        "\n",
        "# Plot the reshaped output as a heatmap\n",
        "plt.imshow(outputs_reshaped, cmap='viridis', interpolation='nearest')\n",
        "plt.colorbar()\n",
        "plt.title('Reshaped Output Heatmap')\n",
        "plt.show()"
      ],
      "metadata": {
        "colab": {
          "base_uri": "https://localhost:8080/",
          "height": 452
        },
        "id": "6HW8TwnloAzZ",
        "outputId": "495a05db-d7e7-4de9-af60-5ba2ae507b78"
      },
      "execution_count": null,
      "outputs": [
        {
          "output_type": "display_data",
          "data": {
            "text/plain": [
              "<Figure size 640x480 with 2 Axes>"
            ],
            "image/png": "[encoded data removed]"
          },
          "metadata": {}
        }
      ]
    },
    {
      "cell_type": "code",
      "source": [
        "# Example: Multiply the reshaped matrix by itself (element-wise)\n",
        "result = np.dot(outputs_reshaped, outputs_reshaped)\n",
        "print(result)"
      ],
      "metadata": {
        "colab": {
          "base_uri": "https://localhost:8080/"
        },
        "id": "kcFRzNztoFRg",
        "outputId": "b8877cd8-467b-4e92-fc76-12f87e4dd658"
      },
      "execution_count": null,
      "outputs": [
        {
          "output_type": "stream",
          "name": "stdout",
          "text": [
            "[[1.79060157 2.35890451 1.73972124 2.59093373 1.7232426  2.06342116]\n",
            " [1.26006082 1.8214029  1.56896568 2.16595217 1.96033693 1.91009523]\n",
            " [0.9088937  1.00925025 1.20234258 1.93369097 1.63840237 0.8791666 ]\n",
            " [1.00067138 1.25809859 0.79756936 1.11810131 1.02694254 1.41575506]\n",
            " [1.34935974 1.93766285 1.57245382 2.12609441 1.75053146 1.48653561]\n",
            " [1.45766763 1.58009111 1.62074825 2.074353   1.97171279 1.74533451]]\n"
          ]
        }
      ]
    },
    {
      "cell_type": "code",
      "source": [
        "# Transpose the matrix\n",
        "transposed = outputs_reshaped.T\n",
        "print(transposed)"
      ],
      "metadata": {
        "colab": {
          "base_uri": "https://localhost:8080/"
        },
        "id": "tO-q-n7roOWK",
        "outputId": "2c80605e-d99a-480b-bef6-d58b5f103b2e"
      },
      "execution_count": null,
      "outputs": [
        {
          "output_type": "stream",
          "name": "stdout",
          "text": [
            "[[0.40223822 0.66924691 0.07932156 0.17302413 0.73360372 0.41572096]\n",
            " [0.80293502 0.42455273 0.64235476 0.02831424 0.68994539 0.78605576]\n",
            " [0.65758952 0.75788728 0.27570143 0.36307681 0.28606314 0.4007385 ]\n",
            " [0.27020446 0.90416998 0.96509295 0.5087907  0.16747883 0.99767714]\n",
            " [0.87742393 0.48118716 0.02849276 0.92407518 0.22299571 0.61951165]\n",
            " [0.83914418 0.32996368 0.57090642 0.28237057 0.90751528 0.25377094]]\n"
          ]
        }
      ]
    },
    {
      "cell_type": "code",
      "source": [
        "import numpy as np\n",
        "import tensorflow as tf\n",
        "from tensorflow import keras\n",
        "from tensorflow.keras import layers\n",
        "from sklearn.model_selection import train_test_split\n",
        "\n",
        "# Example data (replace with your actual data)\n",
        "inputs = np.random.rand(1000, 6, 6, 1)  # Random input grids\n",
        "outputs = np.random.rand(1000, 6, 6, 1)  # Random output grids\n",
        "\n",
        "# Split into training and validation sets\n",
        "X_train, X_val, y_train, y_val = train_test_split(inputs, outputs, test_size=0.2, random_state=42)\n",
        "\n",
        "# Define the CNN model\n",
        "model = keras.Sequential([\n",
        "    layers.Input(shape=(6, 6, 1)),  # Use Input layer to specify input shape\n",
        "    layers.Conv2D(32, (2, 2), activation='relu', padding='same'),  # Adjust kernel size and add padding\n",
        "    layers.MaxPooling2D((2, 2)),\n",
        "    layers.Conv2D(64, (2, 2), activation='relu', padding='same'),  # Adjust kernel size and add padding\n",
        "    layers.MaxPooling2D((2, 2)),\n",
        "    layers.Flatten(),\n",
        "    layers.Dense(64, activation='relu'),\n",
        "    layers.Dense(36, activation='sigmoid')  # 6x6=36 for output\n",
        "])\n",
        "\n",
        "model.compile(optimizer='adam', loss='mean_squared_error')\n",
        "\n",
        "# Train the model\n",
        "model.fit(X_train, y_train.reshape(-1, 36), epochs=10, validation_data=(X_val, y_val.reshape(-1, 36)))\n",
        "\n",
        "# Save the model\n",
        "model.save('arc_model.h5')"
      ],
      "metadata": {
        "colab": {
          "base_uri": "https://localhost:8080/"
        },
        "id": "EFm81nUko1hV",
        "outputId": "a80c324f-d16d-462e-cef6-0a26ac25172e"
      },
      "execution_count": null,
      "outputs": [
        {
          "output_type": "stream",
          "name": "stdout",
          "text": [
            "Epoch 1/10\n",
            "\u001b[1m25/25\u001b[0m \u001b[32m━━━━━━━━━━━━━━━━━━━━\u001b[0m\u001b[37m\u001b[0m \u001b[1m1s\u001b[0m 10ms/step - loss: 0.0833 - val_loss: 0.0811\n",
            "Epoch 2/10\n",
            "\u001b[1m25/25\u001b[0m \u001b[32m━━━━━━━━━━━━━━━━━━━━\u001b[0m\u001b[37m\u001b[0m \u001b[1m0s\u001b[0m 5ms/step - loss: 0.0829 - val_loss: 0.0812\n",
            "Epoch 3/10\n",
            "\u001b[1m25/25\u001b[0m \u001b[32m━━━━━━━━━━━━━━━━━━━━\u001b[0m\u001b[37m\u001b[0m \u001b[1m0s\u001b[0m 5ms/step - loss: 0.0829 - val_loss: 0.0811\n",
            "Epoch 4/10\n",
            "\u001b[1m25/25\u001b[0m \u001b[32m━━━━━━━━━━━━━━━━━━━━\u001b[0m\u001b[37m\u001b[0m \u001b[1m0s\u001b[0m 5ms/step - loss: 0.0832 - val_loss: 0.0812\n",
            "Epoch 5/10\n",
            "\u001b[1m25/25\u001b[0m \u001b[32m━━━━━━━━━━━━━━━━━━━━\u001b[0m\u001b[37m\u001b[0m \u001b[1m0s\u001b[0m 4ms/step - loss: 0.0830 - val_loss: 0.0812\n",
            "Epoch 6/10\n",
            "\u001b[1m25/25\u001b[0m \u001b[32m━━━━━━━━━━━━━━━━━━━━\u001b[0m\u001b[37m\u001b[0m \u001b[1m0s\u001b[0m 4ms/step - loss: 0.0829 - val_loss: 0.0812\n",
            "Epoch 7/10\n",
            "\u001b[1m25/25\u001b[0m \u001b[32m━━━━━━━━━━━━━━━━━━━━\u001b[0m\u001b[37m\u001b[0m \u001b[1m0s\u001b[0m 4ms/step - loss: 0.0832 - val_loss: 0.0812\n",
            "Epoch 8/10\n",
            "\u001b[1m25/25\u001b[0m \u001b[32m━━━━━━━━━━━━━━━━━━━━\u001b[0m\u001b[37m\u001b[0m \u001b[1m0s\u001b[0m 4ms/step - loss: 0.0835 - val_loss: 0.0812\n",
            "Epoch 9/10\n",
            "\u001b[1m25/25\u001b[0m \u001b[32m━━━━━━━━━━━━━━━━━━━━\u001b[0m\u001b[37m\u001b[0m \u001b[1m0s\u001b[0m 5ms/step - loss: 0.0830 - val_loss: 0.0812\n",
            "Epoch 10/10\n",
            "\u001b[1m25/25\u001b[0m \u001b[32m━━━━━━━━━━━━━━━━━━━━\u001b[0m\u001b[37m\u001b[0m \u001b[1m0s\u001b[0m 4ms/step - loss: 0.0826 - val_loss: 0.0811\n"
          ]
        },
        {
          "output_type": "stream",
          "name": "stderr",
          "text": [
            "WARNING:absl:You are saving your model as an HDF5 file via `model.save()` or `keras.saving.save_model(model)`. This file format is considered legacy. We recommend using instead the native Keras format, e.g. `model.save('my_model.keras')` or `keras.saving.save_model(model, 'my_model.keras')`. \n"
          ]
        }
      ]
    },
    {
      "cell_type": "code",
      "source": [
        "# Assuming you have a test dataset named 'X_test'\n",
        "# Replace this with your actual test dataset\n",
        "X_test = np.random.rand(200, 6, 6, 1)  # Example test input data\n",
        "\n",
        "# Load the trained model (if not already in memory)\n",
        "model = keras.models.load_model('arc_model.h5')\n",
        "\n",
        "# Make predictions\n",
        "predictions = model.predict(X_test)\n",
        "\n",
        "# Reshape predictions to match the expected output format\n",
        "predictions_reshaped = predictions.reshape(-1, 6, 6, 1)  # Reshape to (n_samples, 6, 6, 1)"
      ],
      "metadata": {
        "colab": {
          "base_uri": "https://localhost:8080/"
        },
        "id": "IRKX48uhpNL8",
        "outputId": "e6402c97-7eb5-454a-f97e-85488eb23efe"
      },
      "execution_count": null,
      "outputs": [
        {
          "output_type": "stream",
          "name": "stderr",
          "text": [
            "WARNING:absl:Compiled the loaded model, but the compiled metrics have yet to be built. `model.compile_metrics` will be empty until you train or evaluate the model.\n"
          ]
        },
        {
          "output_type": "stream",
          "name": "stdout",
          "text": [
            "\u001b[1m7/7\u001b[0m \u001b[32m━━━━━━━━━━━━━━━━━━━━\u001b[0m\u001b[37m\u001b[0m \u001b[1m0s\u001b[0m 10ms/step\n"
          ]
        }
      ]
    },
    {
      "cell_type": "code",
      "source": [
        "from keras.models import load_model\n",
        "from keras.optimizers import Adam\n",
        "\n",
        "# Load the trained model\n",
        "model = load_model('arc_model.h5')\n",
        "\n",
        "# Recompile the model\n",
        "model.compile(optimizer=Adam(), loss='mean_squared_error')  # Adjust loss as per your needs\n"
      ],
      "metadata": {
        "colab": {
          "base_uri": "https://localhost:8080/"
        },
        "id": "QjS_uCyGpZE3",
        "outputId": "07a38b44-b532-49ed-9974-b8166b4c2daa"
      },
      "execution_count": null,
      "outputs": [
        {
          "output_type": "stream",
          "name": "stderr",
          "text": [
            "WARNING:absl:Compiled the loaded model, but the compiled metrics have yet to be built. `model.compile_metrics` will be empty until you train or evaluate the model.\n"
          ]
        }
      ]
    },
    {
      "cell_type": "code",
      "source": [
        "import numpy as np\n",
        "from keras.models import load_model\n",
        "from keras.optimizers import Adam\n",
        "import json\n",
        "\n",
        "# Load the trained model\n",
        "model = load_model('arc_model.h5')\n",
        "\n",
        "# Recompile the model\n",
        "model.compile(optimizer=Adam(), loss='mean_squared_error')  # Adjust loss function if necessary\n",
        "\n",
        "# Assuming you have a test dataset named 'X_test'\n",
        "# Replace this with your actual test dataset\n",
        "X_test = np.random.rand(200, 6, 6, 1)  # Example test input data\n",
        "\n",
        "# Make predictions\n",
        "predictions = model.predict(X_test)\n",
        "\n",
        "# Reshape predictions to match the expected output format\n",
        "predictions_reshaped = predictions.reshape(-1, 6, 6, 1)  # Reshape to (n_samples, 6, 6, 1)\n",
        "\n",
        "# Prepare your submission dictionary\n",
        "submission = {}\n",
        "task_ids = [\"00576224\", \"009d5c81\", \"12997ef3\"]  # Example task IDs\n",
        "\n",
        "for task_id in task_ids:\n",
        "    submission[task_id] = []\n",
        "\n",
        "    # For each task, add two attempts\n",
        "    attempt_1 = predictions_reshaped[0].tolist()  # Replace with actual attempts\n",
        "    attempt_2 = predictions_reshaped[1].tolist()  # Replace with actual attempts\n",
        "\n",
        "    submission[task_id].append({\n",
        "        \"attempt_1\": attempt_1,\n",
        "        \"attempt_2\": attempt_2\n",
        "    })\n",
        "\n",
        "# Save the submission to a JSON file\n",
        "with open('submission.json', 'w') as f:\n",
        "    json.dump(submission, f, indent=4)\n",
        "\n",
        "print(\"Submission file saved as 'submission.json'.\")\n"
      ],
      "metadata": {
        "colab": {
          "base_uri": "https://localhost:8080/"
        },
        "id": "u1p1SGX1pghs",
        "outputId": "8fa8075b-9abb-4504-894d-e4513d4531a7"
      },
      "execution_count": null,
      "outputs": [
        {
          "output_type": "stream",
          "name": "stderr",
          "text": [
            "WARNING:absl:Compiled the loaded model, but the compiled metrics have yet to be built. `model.compile_metrics` will be empty until you train or evaluate the model.\n",
            "WARNING:tensorflow:5 out of the last 15 calls to <function TensorFlowTrainer.make_predict_function.<locals>.one_step_on_data_distributed at 0x789888e31120> triggered tf.function retracing. Tracing is expensive and the excessive number of tracings could be due to (1) creating @tf.function repeatedly in a loop, (2) passing tensors with different shapes, (3) passing Python objects instead of tensors. For (1), please define your @tf.function outside of the loop. For (2), @tf.function has reduce_retracing=True option that can avoid unnecessary retracing. For (3), please refer to https://www.tensorflow.org/guide/function#controlling_retracing and https://www.tensorflow.org/api_docs/python/tf/function for  more details.\n"
          ]
        },
        {
          "output_type": "stream",
          "name": "stdout",
          "text": [
            "\u001b[1m7/7\u001b[0m \u001b[32m━━━━━━━━━━━━━━━━━━━━\u001b[0m\u001b[37m\u001b[0m \u001b[1m0s\u001b[0m 11ms/step\n",
            "Submission file saved as 'submission.json'.\n"
          ]
        }
      ]
    },
    {
      "cell_type": "code",
      "source": [
        "# Assuming you have the ground truth for your test set\n",
        "y_test = np.random.rand(200, 6, 6, 1)  # Replace with your actual test labels\n",
        "\n",
        "# Evaluate the model on test data\n",
        "loss = model.evaluate(X_test, y_test.reshape(-1, 36))  # Reshape if necessary\n",
        "print(f\"Test Loss: {loss}\")\n"
      ],
      "metadata": {
        "id": "kRgQ96TcpkR2",
        "outputId": "b1e48b12-0b80-4594-afa2-92f3a5ac75c8",
        "colab": {
          "base_uri": "https://localhost:8080/"
        }
      },
      "execution_count": null,
      "outputs": [
        {
          "output_type": "stream",
          "name": "stdout",
          "text": [
            "\u001b[1m7/7\u001b[0m \u001b[32m━━━━━━━━━━━━━━━━━━━━\u001b[0m\u001b[37m\u001b[0m \u001b[1m0s\u001b[0m 2ms/step - loss: 0.0833  \n",
            "Test Loss: 0.08427862077951431\n"
          ]
        }
      ]
    }
  ]
}